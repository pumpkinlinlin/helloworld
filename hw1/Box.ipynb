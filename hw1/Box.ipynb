{
  "nbformat": 4,
  "nbformat_minor": 0,
  "metadata": {
    "colab": {
      "name": "Box.ipynb",
      "version": "0.3.2",
      "provenance": [],
      "include_colab_link": true
    },
    "kernelspec": {
      "name": "python3",
      "display_name": "Python 3"
    }
  },
  "cells": [
    {
      "cell_type": "markdown",
      "metadata": {
        "id": "view-in-github",
        "colab_type": "text"
      },
      "source": [
        "<a href=\"https://colab.research.google.com/github/shiny880410/helloworld/blob/master/hw1/Box.ipynb\" target=\"_parent\"><img src=\"https://colab.research.google.com/assets/colab-badge.svg\" alt=\"Open In Colab\"/></a>"
      ]
    },
    {
      "metadata": {
        "id": "SL4MRlPlWFOR",
        "colab_type": "code",
        "colab": {
          "base_uri": "https://localhost:8080/",
          "height": 260
        },
        "outputId": "494c3e10-5b03-42cb-9931-3b2ac9aaee25"
      },
      "cell_type": "code",
      "source": [
        "!pip install gspread\n",
        "!pip install oauth2client\n",
        "!pip install Pillow\n",
        "!pip install -U -q PyDrive"
      ],
      "execution_count": 1,
      "outputs": [
        {
          "output_type": "stream",
          "text": [
            "Requirement already satisfied: gspread in /usr/local/lib/python3.6/dist-packages (3.0.1)\n",
            "Requirement already satisfied: requests>=2.2.1 in /usr/local/lib/python3.6/dist-packages (from gspread) (2.18.4)\n",
            "Requirement already satisfied: urllib3<1.23,>=1.21.1 in /usr/local/lib/python3.6/dist-packages (from requests>=2.2.1->gspread) (1.22)\n",
            "Requirement already satisfied: certifi>=2017.4.17 in /usr/local/lib/python3.6/dist-packages (from requests>=2.2.1->gspread) (2019.3.9)\n",
            "Requirement already satisfied: idna<2.7,>=2.5 in /usr/local/lib/python3.6/dist-packages (from requests>=2.2.1->gspread) (2.6)\n",
            "Requirement already satisfied: chardet<3.1.0,>=3.0.2 in /usr/local/lib/python3.6/dist-packages (from requests>=2.2.1->gspread) (3.0.4)\n",
            "Requirement already satisfied: oauth2client in /usr/local/lib/python3.6/dist-packages (4.1.3)\n",
            "Requirement already satisfied: httplib2>=0.9.1 in /usr/local/lib/python3.6/dist-packages (from oauth2client) (0.11.3)\n",
            "Requirement already satisfied: six>=1.6.1 in /usr/local/lib/python3.6/dist-packages (from oauth2client) (1.11.0)\n",
            "Requirement already satisfied: pyasn1>=0.1.7 in /usr/local/lib/python3.6/dist-packages (from oauth2client) (0.4.5)\n",
            "Requirement already satisfied: rsa>=3.1.4 in /usr/local/lib/python3.6/dist-packages (from oauth2client) (4.0)\n",
            "Requirement already satisfied: pyasn1-modules>=0.0.5 in /usr/local/lib/python3.6/dist-packages (from oauth2client) (0.2.4)\n",
            "Requirement already satisfied: Pillow in /usr/local/lib/python3.6/dist-packages (4.1.1)\n",
            "Requirement already satisfied: olefile in /usr/local/lib/python3.6/dist-packages (from Pillow) (0.46)\n"
          ],
          "name": "stdout"
        }
      ]
    },
    {
      "metadata": {
        "id": "yp_mi-3IWM-i",
        "colab_type": "code",
        "colab": {
          "base_uri": "https://localhost:8080/",
          "height": 225
        },
        "outputId": "e44a17cf-ccd5-4d60-b915-1de8e78befd1"
      },
      "cell_type": "code",
      "source": [
        "import os\n",
        "from pydrive.auth import GoogleAuth\n",
        "from pydrive.drive import GoogleDrive\n",
        "from google.colab import auth\n",
        "from oauth2client.client import GoogleCredentials\n",
        "\n",
        "# 1. Authenticate and create the PyDrive client.\n",
        "auth.authenticate_user()\n",
        "gauth = GoogleAuth()\n",
        "gauth.credentials = GoogleCredentials.get_application_default()\n",
        "drive = GoogleDrive(gauth)\n",
        "\n",
        "# choose a local (colab) directory to store the data.\n",
        "local_download_path = os.path.expanduser('~/data')\n",
        "try:\n",
        "  os.makedirs(local_download_path)\n",
        "except: pass\n",
        "\n",
        "# 2. Auto-iterate using the query syntax\n",
        "#    https://developers.google.com/drive/v2/web/search-parameters\n",
        "file_list = drive.ListFile(\n",
        "    {'q': \"'1_7FyladR7eGnmUjsCvNF1XnpVZpuNGXm' in parents\"}).GetList()\n",
        "\n",
        "for f in file_list:\n",
        "  # 3. Create & download by id.\n",
        "  print('title: %s, id: %s' % (f['title'], f['id']))\n",
        "  #fname = os.path.join(local_download_path, f['title'])\n",
        "  fname = os.path.join('/content', f['title'])\n",
        "  print('downloading to {}'.format(fname))\n",
        "  f_ = drive.CreateFile({'id': f['id']})\n",
        "  f_.GetContentFile(fname)\n",
        "!ls \"/root/data\""
      ],
      "execution_count": 2,
      "outputs": [
        {
          "output_type": "stream",
          "text": [
            "title: Box.ipynb, id: 1_xaM3WhBd-i9nEFMtUWAuy8KBS298QQF\n",
            "downloading to /content/Box.ipynb\n",
            "title: linePlot_TwoLines.ipynb, id: 1-m9LEIK5RHWw6gVtKNfuecEbUJbxsBvh\n",
            "downloading to /content/linePlot_TwoLines.ipynb\n",
            "title: Frechet.ipynb, id: 1rjh78sM8vRXoyqdOgDt7YAYgchjawvHG\n",
            "downloading to /content/Frechet.ipynb\n",
            "title: 標記顯著速度差異.ipynb, id: 1AM9X_LwPT7wA4lDu42OQ-tbc23q_vedD\n",
            "downloading to /content/標記顯著速度差異.ipynb\n",
            "title: 復興南路2.ipynb, id: 1QyxaBmyotcR5YhBxm7rtT7xlnma5byNr\n",
            "downloading to /content/復興南路2.ipynb\n",
            "title: NotoSansCJKtc-Regular.otf, id: 1fY1VCoDLMTrMyEQLrXghet2ZJjKX3iZv\n",
            "downloading to /content/NotoSansCJKtc-Regular.otf\n"
          ],
          "name": "stdout"
        }
      ]
    },
    {
      "metadata": {
        "id": "wJAHLLYkWQPh",
        "colab_type": "code",
        "colab": {
          "base_uri": "https://localhost:8080/",
          "height": 269
        },
        "outputId": "74310a41-b724-409b-cb01-21f3de8ad452"
      },
      "cell_type": "code",
      "source": [
        "import gspread\n",
        "from oauth2client.service_account import ServiceAccountCredentials\n",
        "from oauth2client.client import GoogleCredentials\n",
        "from google.colab import auth\n",
        "from google.colab import files\n",
        "auth.authenticate_user()\n",
        "import numpy as np\n",
        "import matplotlib.pyplot as plt\n",
        "import matplotlib.font_manager as fm\n",
        "from IPython.display import Image\n",
        "\n",
        "gc = gspread.authorize(GoogleCredentials.get_application_default())\n",
        "sh = gc.open_by_url('https://docs.google.com/spreadsheets/d/1FJPf9S2vpimDZvefrpnfq31cq3JpmySHse74WQoEgu4/edit?ts=5c8895e5#gid=618695640')\n",
        "wks4 = sh.worksheet(\"復興南北路\")\n",
        "\n",
        "y1=wks4.col_values(20)\n",
        "y2=wks4.col_values(21)\n",
        "y3=wks4.col_values(22)\n",
        "for i in range(45):\n",
        "  y1.pop(0)\n",
        "  y2.pop(0)\n",
        "  y3.pop(0)\n",
        "for i in range(12):\n",
        "  y1.pop()\n",
        "  y2.pop()\n",
        "  y3.pop()\n",
        "for i in range(len(y1)):\n",
        "  y1[i]=eval(y1[i])\n",
        "  y2[i]=eval(y2[i])\n",
        "  y3[i]=eval(y3[i])\n",
        "#print(y1)\n",
        "fig = plt.figure()  # 创建画布\n",
        "ax = plt.subplot()  # 创建作图区域\n",
        "# 蓝色矩形的红线：50%分位点是4.5,上边沿：25%分位点是2.25,下边沿：75%分位点是6.75\n",
        "ax.boxplot([y1, y2, y3])\n",
        "ax.set_xticks([1, 2, 3])\n",
        "fontPath = 'NotoSansCJKtc-Regular.otf'\n",
        "font30 = fm.FontProperties(fname=fontPath, size=10)\n",
        "ax.set_xticklabels(['復興北路479巷-民族東路', '民族東路-民生東路', '民生東路-八德路'],fontproperties=font30)\n",
        "# 显示y坐标轴的底线\n",
        "plt.grid(axis='y')\n",
        "plt.show()\n"
      ],
      "execution_count": 20,
      "outputs": [
        {
          "output_type": "display_data",
          "data": {
            "image/png": "[encoded data removed]",
            "text/plain": [
              "<Figure size 432x288 with 1 Axes>"
            ]
          },
          "metadata": {
            "tags": []
          }
        }
      ]
    }
  ]
}