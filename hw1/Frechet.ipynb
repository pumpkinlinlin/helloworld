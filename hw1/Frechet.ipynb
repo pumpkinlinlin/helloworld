{
  "nbformat": 4,
  "nbformat_minor": 0,
  "metadata": {
    "colab": {
      "name": "Frechet.ipynb",
      "version": "0.3.2",
      "provenance": [],
      "include_colab_link": true
    },
    "kernelspec": {
      "name": "python3",
      "display_name": "Python 3"
    }
  },
  "cells": [
    {
      "cell_type": "markdown",
      "metadata": {
        "id": "view-in-github",
        "colab_type": "text"
      },
      "source": [
        "<a href=\"https://colab.research.google.com/github/shiny880410/helloworld/blob/master/hw1/Frechet.ipynb\" target=\"_parent\"><img src=\"https://colab.research.google.com/assets/colab-badge.svg\" alt=\"Open In Colab\"/></a>"
      ]
    },
    {
      "metadata": {
        "id": "N105IHluwVpB",
        "colab_type": "code",
        "colab": {
          "base_uri": "https://localhost:8080/",
          "height": 295
        },
        "outputId": "c6c0feab-95a5-451b-aa6d-8f7f1d70f6b8"
      },
      "cell_type": "code",
      "source": [
        "!pip install gspread\n",
        "!pip install oauth2client\n",
        "!pip install Pillow\n",
        "!pip install -U -q PyDrive"
      ],
      "execution_count": 2,
      "outputs": [
        {
          "output_type": "stream",
          "text": [
            "Requirement already satisfied: gspread in /usr/local/lib/python3.6/dist-packages (3.0.1)\n",
            "Requirement already satisfied: requests>=2.2.1 in /usr/local/lib/python3.6/dist-packages (from gspread) (2.18.4)\n",
            "Requirement already satisfied: chardet<3.1.0,>=3.0.2 in /usr/local/lib/python3.6/dist-packages (from requests>=2.2.1->gspread) (3.0.4)\n",
            "Requirement already satisfied: idna<2.7,>=2.5 in /usr/local/lib/python3.6/dist-packages (from requests>=2.2.1->gspread) (2.6)\n",
            "Requirement already satisfied: certifi>=2017.4.17 in /usr/local/lib/python3.6/dist-packages (from requests>=2.2.1->gspread) (2019.3.9)\n",
            "Requirement already satisfied: urllib3<1.23,>=1.21.1 in /usr/local/lib/python3.6/dist-packages (from requests>=2.2.1->gspread) (1.22)\n",
            "Requirement already satisfied: oauth2client in /usr/local/lib/python3.6/dist-packages (4.1.3)\n",
            "Requirement already satisfied: six>=1.6.1 in /usr/local/lib/python3.6/dist-packages (from oauth2client) (1.11.0)\n",
            "Requirement already satisfied: httplib2>=0.9.1 in /usr/local/lib/python3.6/dist-packages (from oauth2client) (0.11.3)\n",
            "Requirement already satisfied: pyasn1-modules>=0.0.5 in /usr/local/lib/python3.6/dist-packages (from oauth2client) (0.2.4)\n",
            "Requirement already satisfied: pyasn1>=0.1.7 in /usr/local/lib/python3.6/dist-packages (from oauth2client) (0.4.5)\n",
            "Requirement already satisfied: rsa>=3.1.4 in /usr/local/lib/python3.6/dist-packages (from oauth2client) (4.0)\n",
            "Requirement already satisfied: Pillow in /usr/local/lib/python3.6/dist-packages (4.1.1)\n",
            "Requirement already satisfied: olefile in /usr/local/lib/python3.6/dist-packages (from Pillow) (0.46)\n",
            "\u001b[K    100% |████████████████████████████████| 993kB 20.0MB/s \n",
            "\u001b[?25h  Building wheel for PyDrive (setup.py) ... \u001b[?25ldone\n",
            "\u001b[?25h"
          ],
          "name": "stdout"
        }
      ]
    },
    {
      "metadata": {
        "id": "oCSuEtXuxW-d",
        "colab_type": "code",
        "colab": {
          "base_uri": "https://localhost:8080/",
          "height": 156
        },
        "outputId": "d50ac4b0-2dad-4e11-eeac-f90e60855569"
      },
      "cell_type": "code",
      "source": [
        "import os\n",
        "from pydrive.auth import GoogleAuth\n",
        "from pydrive.drive import GoogleDrive\n",
        "from google.colab import auth\n",
        "from oauth2client.client import GoogleCredentials\n",
        "\n",
        "# 1. Authenticate and create the PyDrive client.\n",
        "auth.authenticate_user()\n",
        "gauth = GoogleAuth()\n",
        "gauth.credentials = GoogleCredentials.get_application_default()\n",
        "drive = GoogleDrive(gauth)\n",
        "\n",
        "# choose a local (colab) directory to store the data.\n",
        "local_download_path = os.path.expanduser('~/data')\n",
        "try:\n",
        "  os.makedirs(local_download_path)\n",
        "except: pass\n",
        "\n",
        "# 2. Auto-iterate using the query syntax\n",
        "#    https://developers.google.com/drive/v2/web/search-parameters\n",
        "file_list = drive.ListFile(\n",
        "    {'q': \"'1_7FyladR7eGnmUjsCvNF1XnpVZpuNGXm' in parents\"}).GetList()\n",
        "\n",
        "for f in file_list:\n",
        "  # 3. Create & download by id.\n",
        "  print('title: %s, id: %s' % (f['title'], f['id']))\n",
        "  #fname = os.path.join(local_download_path, f['title'])\n",
        "  fname = os.path.join('/content', f['title'])\n",
        "  print('downloading to {}'.format(fname))\n",
        "  f_ = drive.CreateFile({'id': f['id']})\n",
        "  f_.GetContentFile(fname)\n",
        "!ls \"/root/data\""
      ],
      "execution_count": 5,
      "outputs": [
        {
          "output_type": "stream",
          "text": [
            "title: Frechet.ipynb, id: 1rjh78sM8vRXoyqdOgDt7YAYgchjawvHG\n",
            "downloading to /content/Frechet.ipynb\n",
            "title: 標記顯著速度差異.ipynb, id: 1AM9X_LwPT7wA4lDu42OQ-tbc23q_vedD\n",
            "downloading to /content/標記顯著速度差異.ipynb\n",
            "title: 復興南路2.ipynb, id: 1QyxaBmyotcR5YhBxm7rtT7xlnma5byNr\n",
            "downloading to /content/復興南路2.ipynb\n",
            "title: NotoSansCJKtc-Regular.otf, id: 1fY1VCoDLMTrMyEQLrXghet2ZJjKX3iZv\n",
            "downloading to /content/NotoSansCJKtc-Regular.otf\n"
          ],
          "name": "stdout"
        }
      ]
    },
    {
      "metadata": {
        "id": "ZXsF9Xz9yhAc",
        "colab_type": "code",
        "colab": {
          "base_uri": "https://localhost:8080/",
          "height": 121
        },
        "outputId": "a755dac1-4667-4e20-ec82-7f7c90f002d7"
      },
      "cell_type": "code",
      "source": [
        "def euc_dist(pt1,pt2):\n",
        "    return math.sqrt((pt2[0]-pt1[0])*(pt2[0]-pt1[0])+(pt2[1]-pt1[1])*(pt2[1]-pt1[1]))\n",
        "\n",
        "def _c(ca,i,j,P,Q):\n",
        "    if ca[i,j] > -1:\n",
        "        return ca[i,j]\n",
        "    elif i == 0 and j == 0:\n",
        "        ca[i,j] = euc_dist(P[0],Q[0])\n",
        "    elif i > 0 and j == 0:\n",
        "        ca[i,j] = max(_c(ca,i-1,0,P,Q),euc_dist(P[i],Q[0]))\n",
        "    elif i == 0 and j > 0:\n",
        "        ca[i,j] = max(_c(ca,0,j-1,P,Q),euc_dist(P[0],Q[j]))\n",
        "    elif i > 0 and j > 0:\n",
        "        ca[i,j] = max(min(_c(ca,i-1,j,P,Q),_c(ca,i-1,j-1,P,Q),_c(ca,i,j-1,P,Q)),euc_dist(P[i],Q[j]))\n",
        "    else:\n",
        "        ca[i,j] = float(\"inf\")\n",
        "    return ca[i,j]\n",
        "\n",
        "def frechetDist(P,Q):\n",
        "    ca = np.ones((len(P),len(Q)))\n",
        "    ca = np.multiply(ca,-1)\n",
        "    return _c(ca,len(P)-1,len(Q)-1,P,Q)\n",
        "import gspread\n",
        "from oauth2client.service_account import ServiceAccountCredentials\n",
        "import numpy as np\n",
        "import matplotlib.pyplot as plt\n",
        "import matplotlib.font_manager as fm\n",
        "from matplotlib import animation, rc\n",
        "from IPython.display import HTML\n",
        "from IPython.display import Image\n",
        "from google.colab import auth\n",
        "from google.colab import files\n",
        "from oauth2client.client import GoogleCredentials\n",
        "auth.authenticate_user()\n",
        "import io\n",
        "import math\n",
        "\n",
        "gc = gspread.authorize(GoogleCredentials.get_application_default())\n",
        "sh = gc.open_by_url('https://docs.google.com/spreadsheets/d/1FJPf9S2vpimDZvefrpnfq31cq3JpmySHse74WQoEgu4/edit?ts=5c8895e5#gid=618695640')\n",
        "wks4 = sh.worksheet(\"復興南北路\")\n",
        "\n",
        "\n",
        "for w in [21,22,23,24,25,26]:\n",
        "    qp = wks4.col_values(w)\n",
        "    yp = wks4.col_values(20)\n",
        "    yp.pop(0)\n",
        "    yp.pop(0)\n",
        "    yp.pop(0)\n",
        "    qp.pop(0)\n",
        "    qp.pop(0)\n",
        "    qp.pop(0)\n",
        "    x=[]\n",
        "    P=[]\n",
        "    Q=[]\n",
        "    for i in range(len(yp)):\n",
        "        yp[i]=eval(yp[i])\n",
        "        qp[i]=eval(qp[i])\n",
        "        x.append(10*(i+1))\n",
        "    for j in range(len(yp)):\n",
        "        P.append([x[j],yp[j]])\n",
        "        Q.append([x[j],qp[j]])\n",
        "\n",
        "    a=frechetDist(P,Q)\n",
        "    print(a)\n"
      ],
      "execution_count": 8,
      "outputs": [
        {
          "output_type": "stream",
          "text": [
            "2.1373744812\n",
            "2.6625679680000003\n",
            "2.880447385\n",
            "3.004080398\n",
            "3.0921094179999997\n",
            "2.5273821506000003\n"
          ],
          "name": "stdout"
        }
      ]
    }
  ]
}